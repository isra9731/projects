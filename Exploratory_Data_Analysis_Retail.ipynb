{
  "nbformat": 4,
  "nbformat_minor": 0,
  "metadata": {
    "colab": {
      "name": "Exploratory Data Analysis - Retail.ipynb",
      "provenance": [],
      "authorship_tag": "ABX9TyMVE/qQDk7eUSjyVO4oQ2Et",
      "include_colab_link": true
    },
    "kernelspec": {
      "name": "python3",
      "display_name": "Python 3"
    },
    "language_info": {
      "name": "python"
    }
  },
  "cells": [
    {
      "cell_type": "markdown",
      "metadata": {
        "id": "view-in-github",
        "colab_type": "text"
      },
      "source": [
        "<a href=\"https://colab.research.google.com/github/isra9731/projects/blob/main/Exploratory_Data_Analysis_Retail.ipynb\" target=\"_parent\"><img src=\"https://colab.research.google.com/assets/colab-badge.svg\" alt=\"Open In Colab\"/></a>"
      ]
    },
    {
      "cell_type": "markdown",
      "metadata": {
        "id": "eRdK5dWkbgUW"
      },
      "source": [
        "##**Exploratory Data Analysis - Retail**\n",
        "\n",
        "\n",
        "\n",
        "*    Perform ‘Exploratory Data Analysis’ on dataset  ‘SampleSuperstore’\n",
        "*    As a business manager, try to ﬁnd out the weak areas where you can work to make more proﬁt.\n",
        "*    What all business problems you can derive by exploring the data?\n"
      ]
    },
    {
      "cell_type": "markdown",
      "metadata": {
        "id": "vfHP9oiMbwiR"
      },
      "source": [
        "DATASET Used : https://bit.ly/3i4rbWl"
      ]
    },
    {
      "cell_type": "code",
      "metadata": {
        "id": "pZIN-jiYbbvh"
      },
      "source": [
        "import numpy as np\n",
        "import pandas as pd\n",
        "import matplotlib.pyplot as plt\n",
        "import seaborn as sns\n",
        "import os\n",
        "%matplotlib inline"
      ],
      "execution_count": 1,
      "outputs": []
    },
    {
      "cell_type": "code",
      "metadata": {
        "colab": {
          "base_uri": "https://localhost:8080/",
          "height": 635
        },
        "id": "KzTIKZP3bzUD",
        "outputId": "ea2952f9-2598-42fc-a061-91d876c4d4e5"
      },
      "source": [
        "data=pd.read_csv(\"SampleSuperstore.csv\")\n",
        "data"
      ],
      "execution_count": 2,
      "outputs": [
        {
          "output_type": "execute_result",
          "data": {
            "text/html": [
              "<div>\n",
              "<style scoped>\n",
              "    .dataframe tbody tr th:only-of-type {\n",
              "        vertical-align: middle;\n",
              "    }\n",
              "\n",
              "    .dataframe tbody tr th {\n",
              "        vertical-align: top;\n",
              "    }\n",
              "\n",
              "    .dataframe thead th {\n",
              "        text-align: right;\n",
              "    }\n",
              "</style>\n",
              "<table border=\"1\" class=\"dataframe\">\n",
              "  <thead>\n",
              "    <tr style=\"text-align: right;\">\n",
              "      <th></th>\n",
              "      <th>Ship Mode</th>\n",
              "      <th>Segment</th>\n",
              "      <th>Country</th>\n",
              "      <th>City</th>\n",
              "      <th>State</th>\n",
              "      <th>Postal Code</th>\n",
              "      <th>Region</th>\n",
              "      <th>Category</th>\n",
              "      <th>Sub-Category</th>\n",
              "      <th>Sales</th>\n",
              "      <th>Quantity</th>\n",
              "      <th>Discount</th>\n",
              "      <th>Profit</th>\n",
              "    </tr>\n",
              "  </thead>\n",
              "  <tbody>\n",
              "    <tr>\n",
              "      <th>0</th>\n",
              "      <td>Second Class</td>\n",
              "      <td>Consumer</td>\n",
              "      <td>United States</td>\n",
              "      <td>Henderson</td>\n",
              "      <td>Kentucky</td>\n",
              "      <td>42420</td>\n",
              "      <td>South</td>\n",
              "      <td>Furniture</td>\n",
              "      <td>Bookcases</td>\n",
              "      <td>261.9600</td>\n",
              "      <td>2</td>\n",
              "      <td>0.00</td>\n",
              "      <td>41.9136</td>\n",
              "    </tr>\n",
              "    <tr>\n",
              "      <th>1</th>\n",
              "      <td>Second Class</td>\n",
              "      <td>Consumer</td>\n",
              "      <td>United States</td>\n",
              "      <td>Henderson</td>\n",
              "      <td>Kentucky</td>\n",
              "      <td>42420</td>\n",
              "      <td>South</td>\n",
              "      <td>Furniture</td>\n",
              "      <td>Chairs</td>\n",
              "      <td>731.9400</td>\n",
              "      <td>3</td>\n",
              "      <td>0.00</td>\n",
              "      <td>219.5820</td>\n",
              "    </tr>\n",
              "    <tr>\n",
              "      <th>2</th>\n",
              "      <td>Second Class</td>\n",
              "      <td>Corporate</td>\n",
              "      <td>United States</td>\n",
              "      <td>Los Angeles</td>\n",
              "      <td>California</td>\n",
              "      <td>90036</td>\n",
              "      <td>West</td>\n",
              "      <td>Office Supplies</td>\n",
              "      <td>Labels</td>\n",
              "      <td>14.6200</td>\n",
              "      <td>2</td>\n",
              "      <td>0.00</td>\n",
              "      <td>6.8714</td>\n",
              "    </tr>\n",
              "    <tr>\n",
              "      <th>3</th>\n",
              "      <td>Standard Class</td>\n",
              "      <td>Consumer</td>\n",
              "      <td>United States</td>\n",
              "      <td>Fort Lauderdale</td>\n",
              "      <td>Florida</td>\n",
              "      <td>33311</td>\n",
              "      <td>South</td>\n",
              "      <td>Furniture</td>\n",
              "      <td>Tables</td>\n",
              "      <td>957.5775</td>\n",
              "      <td>5</td>\n",
              "      <td>0.45</td>\n",
              "      <td>-383.0310</td>\n",
              "    </tr>\n",
              "    <tr>\n",
              "      <th>4</th>\n",
              "      <td>Standard Class</td>\n",
              "      <td>Consumer</td>\n",
              "      <td>United States</td>\n",
              "      <td>Fort Lauderdale</td>\n",
              "      <td>Florida</td>\n",
              "      <td>33311</td>\n",
              "      <td>South</td>\n",
              "      <td>Office Supplies</td>\n",
              "      <td>Storage</td>\n",
              "      <td>22.3680</td>\n",
              "      <td>2</td>\n",
              "      <td>0.20</td>\n",
              "      <td>2.5164</td>\n",
              "    </tr>\n",
              "    <tr>\n",
              "      <th>...</th>\n",
              "      <td>...</td>\n",
              "      <td>...</td>\n",
              "      <td>...</td>\n",
              "      <td>...</td>\n",
              "      <td>...</td>\n",
              "      <td>...</td>\n",
              "      <td>...</td>\n",
              "      <td>...</td>\n",
              "      <td>...</td>\n",
              "      <td>...</td>\n",
              "      <td>...</td>\n",
              "      <td>...</td>\n",
              "      <td>...</td>\n",
              "    </tr>\n",
              "    <tr>\n",
              "      <th>9989</th>\n",
              "      <td>Second Class</td>\n",
              "      <td>Consumer</td>\n",
              "      <td>United States</td>\n",
              "      <td>Miami</td>\n",
              "      <td>Florida</td>\n",
              "      <td>33180</td>\n",
              "      <td>South</td>\n",
              "      <td>Furniture</td>\n",
              "      <td>Furnishings</td>\n",
              "      <td>25.2480</td>\n",
              "      <td>3</td>\n",
              "      <td>0.20</td>\n",
              "      <td>4.1028</td>\n",
              "    </tr>\n",
              "    <tr>\n",
              "      <th>9990</th>\n",
              "      <td>Standard Class</td>\n",
              "      <td>Consumer</td>\n",
              "      <td>United States</td>\n",
              "      <td>Costa Mesa</td>\n",
              "      <td>California</td>\n",
              "      <td>92627</td>\n",
              "      <td>West</td>\n",
              "      <td>Furniture</td>\n",
              "      <td>Furnishings</td>\n",
              "      <td>91.9600</td>\n",
              "      <td>2</td>\n",
              "      <td>0.00</td>\n",
              "      <td>15.6332</td>\n",
              "    </tr>\n",
              "    <tr>\n",
              "      <th>9991</th>\n",
              "      <td>Standard Class</td>\n",
              "      <td>Consumer</td>\n",
              "      <td>United States</td>\n",
              "      <td>Costa Mesa</td>\n",
              "      <td>California</td>\n",
              "      <td>92627</td>\n",
              "      <td>West</td>\n",
              "      <td>Technology</td>\n",
              "      <td>Phones</td>\n",
              "      <td>258.5760</td>\n",
              "      <td>2</td>\n",
              "      <td>0.20</td>\n",
              "      <td>19.3932</td>\n",
              "    </tr>\n",
              "    <tr>\n",
              "      <th>9992</th>\n",
              "      <td>Standard Class</td>\n",
              "      <td>Consumer</td>\n",
              "      <td>United States</td>\n",
              "      <td>Costa Mesa</td>\n",
              "      <td>California</td>\n",
              "      <td>92627</td>\n",
              "      <td>West</td>\n",
              "      <td>Office Supplies</td>\n",
              "      <td>Paper</td>\n",
              "      <td>29.6000</td>\n",
              "      <td>4</td>\n",
              "      <td>0.00</td>\n",
              "      <td>13.3200</td>\n",
              "    </tr>\n",
              "    <tr>\n",
              "      <th>9993</th>\n",
              "      <td>Second Class</td>\n",
              "      <td>Consumer</td>\n",
              "      <td>United States</td>\n",
              "      <td>Westminster</td>\n",
              "      <td>California</td>\n",
              "      <td>92683</td>\n",
              "      <td>West</td>\n",
              "      <td>Office Supplies</td>\n",
              "      <td>Appliances</td>\n",
              "      <td>243.1600</td>\n",
              "      <td>2</td>\n",
              "      <td>0.00</td>\n",
              "      <td>72.9480</td>\n",
              "    </tr>\n",
              "  </tbody>\n",
              "</table>\n",
              "<p>9994 rows × 13 columns</p>\n",
              "</div>"
            ],
            "text/plain": [
              "           Ship Mode    Segment        Country  ... Quantity Discount    Profit\n",
              "0       Second Class   Consumer  United States  ...        2     0.00   41.9136\n",
              "1       Second Class   Consumer  United States  ...        3     0.00  219.5820\n",
              "2       Second Class  Corporate  United States  ...        2     0.00    6.8714\n",
              "3     Standard Class   Consumer  United States  ...        5     0.45 -383.0310\n",
              "4     Standard Class   Consumer  United States  ...        2     0.20    2.5164\n",
              "...              ...        ...            ...  ...      ...      ...       ...\n",
              "9989    Second Class   Consumer  United States  ...        3     0.20    4.1028\n",
              "9990  Standard Class   Consumer  United States  ...        2     0.00   15.6332\n",
              "9991  Standard Class   Consumer  United States  ...        2     0.20   19.3932\n",
              "9992  Standard Class   Consumer  United States  ...        4     0.00   13.3200\n",
              "9993    Second Class   Consumer  United States  ...        2     0.00   72.9480\n",
              "\n",
              "[9994 rows x 13 columns]"
            ]
          },
          "metadata": {
            "tags": []
          },
          "execution_count": 2
        }
      ]
    },
    {
      "cell_type": "markdown",
      "metadata": {
        "id": "Wjlzght2b9yw"
      },
      "source": [
        "Displaying first 5 rows"
      ]
    },
    {
      "cell_type": "code",
      "metadata": {
        "colab": {
          "base_uri": "https://localhost:8080/",
          "height": 330
        },
        "id": "Ox7CjPe4cA6u",
        "outputId": "2427de5e-d8c3-4435-e14a-44d121c188c9"
      },
      "source": [
        "data.head()"
      ],
      "execution_count": 3,
      "outputs": [
        {
          "output_type": "execute_result",
          "data": {
            "text/html": [
              "<div>\n",
              "<style scoped>\n",
              "    .dataframe tbody tr th:only-of-type {\n",
              "        vertical-align: middle;\n",
              "    }\n",
              "\n",
              "    .dataframe tbody tr th {\n",
              "        vertical-align: top;\n",
              "    }\n",
              "\n",
              "    .dataframe thead th {\n",
              "        text-align: right;\n",
              "    }\n",
              "</style>\n",
              "<table border=\"1\" class=\"dataframe\">\n",
              "  <thead>\n",
              "    <tr style=\"text-align: right;\">\n",
              "      <th></th>\n",
              "      <th>Ship Mode</th>\n",
              "      <th>Segment</th>\n",
              "      <th>Country</th>\n",
              "      <th>City</th>\n",
              "      <th>State</th>\n",
              "      <th>Postal Code</th>\n",
              "      <th>Region</th>\n",
              "      <th>Category</th>\n",
              "      <th>Sub-Category</th>\n",
              "      <th>Sales</th>\n",
              "      <th>Quantity</th>\n",
              "      <th>Discount</th>\n",
              "      <th>Profit</th>\n",
              "    </tr>\n",
              "  </thead>\n",
              "  <tbody>\n",
              "    <tr>\n",
              "      <th>0</th>\n",
              "      <td>Second Class</td>\n",
              "      <td>Consumer</td>\n",
              "      <td>United States</td>\n",
              "      <td>Henderson</td>\n",
              "      <td>Kentucky</td>\n",
              "      <td>42420</td>\n",
              "      <td>South</td>\n",
              "      <td>Furniture</td>\n",
              "      <td>Bookcases</td>\n",
              "      <td>261.9600</td>\n",
              "      <td>2</td>\n",
              "      <td>0.00</td>\n",
              "      <td>41.9136</td>\n",
              "    </tr>\n",
              "    <tr>\n",
              "      <th>1</th>\n",
              "      <td>Second Class</td>\n",
              "      <td>Consumer</td>\n",
              "      <td>United States</td>\n",
              "      <td>Henderson</td>\n",
              "      <td>Kentucky</td>\n",
              "      <td>42420</td>\n",
              "      <td>South</td>\n",
              "      <td>Furniture</td>\n",
              "      <td>Chairs</td>\n",
              "      <td>731.9400</td>\n",
              "      <td>3</td>\n",
              "      <td>0.00</td>\n",
              "      <td>219.5820</td>\n",
              "    </tr>\n",
              "    <tr>\n",
              "      <th>2</th>\n",
              "      <td>Second Class</td>\n",
              "      <td>Corporate</td>\n",
              "      <td>United States</td>\n",
              "      <td>Los Angeles</td>\n",
              "      <td>California</td>\n",
              "      <td>90036</td>\n",
              "      <td>West</td>\n",
              "      <td>Office Supplies</td>\n",
              "      <td>Labels</td>\n",
              "      <td>14.6200</td>\n",
              "      <td>2</td>\n",
              "      <td>0.00</td>\n",
              "      <td>6.8714</td>\n",
              "    </tr>\n",
              "    <tr>\n",
              "      <th>3</th>\n",
              "      <td>Standard Class</td>\n",
              "      <td>Consumer</td>\n",
              "      <td>United States</td>\n",
              "      <td>Fort Lauderdale</td>\n",
              "      <td>Florida</td>\n",
              "      <td>33311</td>\n",
              "      <td>South</td>\n",
              "      <td>Furniture</td>\n",
              "      <td>Tables</td>\n",
              "      <td>957.5775</td>\n",
              "      <td>5</td>\n",
              "      <td>0.45</td>\n",
              "      <td>-383.0310</td>\n",
              "    </tr>\n",
              "    <tr>\n",
              "      <th>4</th>\n",
              "      <td>Standard Class</td>\n",
              "      <td>Consumer</td>\n",
              "      <td>United States</td>\n",
              "      <td>Fort Lauderdale</td>\n",
              "      <td>Florida</td>\n",
              "      <td>33311</td>\n",
              "      <td>South</td>\n",
              "      <td>Office Supplies</td>\n",
              "      <td>Storage</td>\n",
              "      <td>22.3680</td>\n",
              "      <td>2</td>\n",
              "      <td>0.20</td>\n",
              "      <td>2.5164</td>\n",
              "    </tr>\n",
              "  </tbody>\n",
              "</table>\n",
              "</div>"
            ],
            "text/plain": [
              "        Ship Mode    Segment        Country  ... Quantity Discount    Profit\n",
              "0    Second Class   Consumer  United States  ...        2     0.00   41.9136\n",
              "1    Second Class   Consumer  United States  ...        3     0.00  219.5820\n",
              "2    Second Class  Corporate  United States  ...        2     0.00    6.8714\n",
              "3  Standard Class   Consumer  United States  ...        5     0.45 -383.0310\n",
              "4  Standard Class   Consumer  United States  ...        2     0.20    2.5164\n",
              "\n",
              "[5 rows x 13 columns]"
            ]
          },
          "metadata": {
            "tags": []
          },
          "execution_count": 3
        }
      ]
    },
    {
      "cell_type": "markdown",
      "metadata": {
        "id": "QMyP_fh8cDNE"
      },
      "source": [
        "Displaying last 5 rows"
      ]
    },
    {
      "cell_type": "code",
      "metadata": {
        "colab": {
          "base_uri": "https://localhost:8080/",
          "height": 330
        },
        "id": "vhuqszq6cBbl",
        "outputId": "eec6385a-2a2b-47fb-b024-a4690a2bf36c"
      },
      "source": [
        "data.tail()"
      ],
      "execution_count": 4,
      "outputs": [
        {
          "output_type": "execute_result",
          "data": {
            "text/html": [
              "<div>\n",
              "<style scoped>\n",
              "    .dataframe tbody tr th:only-of-type {\n",
              "        vertical-align: middle;\n",
              "    }\n",
              "\n",
              "    .dataframe tbody tr th {\n",
              "        vertical-align: top;\n",
              "    }\n",
              "\n",
              "    .dataframe thead th {\n",
              "        text-align: right;\n",
              "    }\n",
              "</style>\n",
              "<table border=\"1\" class=\"dataframe\">\n",
              "  <thead>\n",
              "    <tr style=\"text-align: right;\">\n",
              "      <th></th>\n",
              "      <th>Ship Mode</th>\n",
              "      <th>Segment</th>\n",
              "      <th>Country</th>\n",
              "      <th>City</th>\n",
              "      <th>State</th>\n",
              "      <th>Postal Code</th>\n",
              "      <th>Region</th>\n",
              "      <th>Category</th>\n",
              "      <th>Sub-Category</th>\n",
              "      <th>Sales</th>\n",
              "      <th>Quantity</th>\n",
              "      <th>Discount</th>\n",
              "      <th>Profit</th>\n",
              "    </tr>\n",
              "  </thead>\n",
              "  <tbody>\n",
              "    <tr>\n",
              "      <th>9989</th>\n",
              "      <td>Second Class</td>\n",
              "      <td>Consumer</td>\n",
              "      <td>United States</td>\n",
              "      <td>Miami</td>\n",
              "      <td>Florida</td>\n",
              "      <td>33180</td>\n",
              "      <td>South</td>\n",
              "      <td>Furniture</td>\n",
              "      <td>Furnishings</td>\n",
              "      <td>25.248</td>\n",
              "      <td>3</td>\n",
              "      <td>0.2</td>\n",
              "      <td>4.1028</td>\n",
              "    </tr>\n",
              "    <tr>\n",
              "      <th>9990</th>\n",
              "      <td>Standard Class</td>\n",
              "      <td>Consumer</td>\n",
              "      <td>United States</td>\n",
              "      <td>Costa Mesa</td>\n",
              "      <td>California</td>\n",
              "      <td>92627</td>\n",
              "      <td>West</td>\n",
              "      <td>Furniture</td>\n",
              "      <td>Furnishings</td>\n",
              "      <td>91.960</td>\n",
              "      <td>2</td>\n",
              "      <td>0.0</td>\n",
              "      <td>15.6332</td>\n",
              "    </tr>\n",
              "    <tr>\n",
              "      <th>9991</th>\n",
              "      <td>Standard Class</td>\n",
              "      <td>Consumer</td>\n",
              "      <td>United States</td>\n",
              "      <td>Costa Mesa</td>\n",
              "      <td>California</td>\n",
              "      <td>92627</td>\n",
              "      <td>West</td>\n",
              "      <td>Technology</td>\n",
              "      <td>Phones</td>\n",
              "      <td>258.576</td>\n",
              "      <td>2</td>\n",
              "      <td>0.2</td>\n",
              "      <td>19.3932</td>\n",
              "    </tr>\n",
              "    <tr>\n",
              "      <th>9992</th>\n",
              "      <td>Standard Class</td>\n",
              "      <td>Consumer</td>\n",
              "      <td>United States</td>\n",
              "      <td>Costa Mesa</td>\n",
              "      <td>California</td>\n",
              "      <td>92627</td>\n",
              "      <td>West</td>\n",
              "      <td>Office Supplies</td>\n",
              "      <td>Paper</td>\n",
              "      <td>29.600</td>\n",
              "      <td>4</td>\n",
              "      <td>0.0</td>\n",
              "      <td>13.3200</td>\n",
              "    </tr>\n",
              "    <tr>\n",
              "      <th>9993</th>\n",
              "      <td>Second Class</td>\n",
              "      <td>Consumer</td>\n",
              "      <td>United States</td>\n",
              "      <td>Westminster</td>\n",
              "      <td>California</td>\n",
              "      <td>92683</td>\n",
              "      <td>West</td>\n",
              "      <td>Office Supplies</td>\n",
              "      <td>Appliances</td>\n",
              "      <td>243.160</td>\n",
              "      <td>2</td>\n",
              "      <td>0.0</td>\n",
              "      <td>72.9480</td>\n",
              "    </tr>\n",
              "  </tbody>\n",
              "</table>\n",
              "</div>"
            ],
            "text/plain": [
              "           Ship Mode   Segment        Country  ... Quantity Discount   Profit\n",
              "9989    Second Class  Consumer  United States  ...        3      0.2   4.1028\n",
              "9990  Standard Class  Consumer  United States  ...        2      0.0  15.6332\n",
              "9991  Standard Class  Consumer  United States  ...        2      0.2  19.3932\n",
              "9992  Standard Class  Consumer  United States  ...        4      0.0  13.3200\n",
              "9993    Second Class  Consumer  United States  ...        2      0.0  72.9480\n",
              "\n",
              "[5 rows x 13 columns]"
            ]
          },
          "metadata": {
            "tags": []
          },
          "execution_count": 4
        }
      ]
    },
    {
      "cell_type": "markdown",
      "metadata": {
        "id": "bwDnUf8ScHbh"
      },
      "source": [
        "Checks the number of rows and columns in the dataset"
      ]
    },
    {
      "cell_type": "code",
      "metadata": {
        "colab": {
          "base_uri": "https://localhost:8080/"
        },
        "id": "RCHIirO7cFVp",
        "outputId": "eadc43bc-855d-4d51-b054-e85b22aa78d4"
      },
      "source": [
        "data.shape"
      ],
      "execution_count": 5,
      "outputs": [
        {
          "output_type": "execute_result",
          "data": {
            "text/plain": [
              "(9994, 13)"
            ]
          },
          "metadata": {
            "tags": []
          },
          "execution_count": 5
        }
      ]
    },
    {
      "cell_type": "code",
      "metadata": {
        "colab": {
          "base_uri": "https://localhost:8080/"
        },
        "id": "WXygGOrhcJ5D",
        "outputId": "5a6162f6-e9be-4b55-bf9c-ff4b932d2325"
      },
      "source": [
        "#Information of the data\n",
        "data.info()"
      ],
      "execution_count": 6,
      "outputs": [
        {
          "output_type": "stream",
          "text": [
            "<class 'pandas.core.frame.DataFrame'>\n",
            "RangeIndex: 9994 entries, 0 to 9993\n",
            "Data columns (total 13 columns):\n",
            " #   Column        Non-Null Count  Dtype  \n",
            "---  ------        --------------  -----  \n",
            " 0   Ship Mode     9994 non-null   object \n",
            " 1   Segment       9994 non-null   object \n",
            " 2   Country       9994 non-null   object \n",
            " 3   City          9994 non-null   object \n",
            " 4   State         9994 non-null   object \n",
            " 5   Postal Code   9994 non-null   int64  \n",
            " 6   Region        9994 non-null   object \n",
            " 7   Category      9994 non-null   object \n",
            " 8   Sub-Category  9994 non-null   object \n",
            " 9   Sales         9994 non-null   float64\n",
            " 10  Quantity      9994 non-null   int64  \n",
            " 11  Discount      9994 non-null   float64\n",
            " 12  Profit        9994 non-null   float64\n",
            "dtypes: float64(3), int64(2), object(8)\n",
            "memory usage: 1015.1+ KB\n"
          ],
          "name": "stdout"
        }
      ]
    },
    {
      "cell_type": "markdown",
      "metadata": {
        "id": "erLnh6e0cPJB"
      },
      "source": [
        "Statistical Information"
      ]
    },
    {
      "cell_type": "code",
      "metadata": {
        "colab": {
          "base_uri": "https://localhost:8080/",
          "height": 300
        },
        "id": "vAMLiN46cMbF",
        "outputId": "658eac08-c76f-43bc-fb03-735ff637eef7"
      },
      "source": [
        "data.describe()"
      ],
      "execution_count": 7,
      "outputs": [
        {
          "output_type": "execute_result",
          "data": {
            "text/html": [
              "<div>\n",
              "<style scoped>\n",
              "    .dataframe tbody tr th:only-of-type {\n",
              "        vertical-align: middle;\n",
              "    }\n",
              "\n",
              "    .dataframe tbody tr th {\n",
              "        vertical-align: top;\n",
              "    }\n",
              "\n",
              "    .dataframe thead th {\n",
              "        text-align: right;\n",
              "    }\n",
              "</style>\n",
              "<table border=\"1\" class=\"dataframe\">\n",
              "  <thead>\n",
              "    <tr style=\"text-align: right;\">\n",
              "      <th></th>\n",
              "      <th>Postal Code</th>\n",
              "      <th>Sales</th>\n",
              "      <th>Quantity</th>\n",
              "      <th>Discount</th>\n",
              "      <th>Profit</th>\n",
              "    </tr>\n",
              "  </thead>\n",
              "  <tbody>\n",
              "    <tr>\n",
              "      <th>count</th>\n",
              "      <td>9994.000000</td>\n",
              "      <td>9994.000000</td>\n",
              "      <td>9994.000000</td>\n",
              "      <td>9994.000000</td>\n",
              "      <td>9994.000000</td>\n",
              "    </tr>\n",
              "    <tr>\n",
              "      <th>mean</th>\n",
              "      <td>55190.379428</td>\n",
              "      <td>229.858001</td>\n",
              "      <td>3.789574</td>\n",
              "      <td>0.156203</td>\n",
              "      <td>28.656896</td>\n",
              "    </tr>\n",
              "    <tr>\n",
              "      <th>std</th>\n",
              "      <td>32063.693350</td>\n",
              "      <td>623.245101</td>\n",
              "      <td>2.225110</td>\n",
              "      <td>0.206452</td>\n",
              "      <td>234.260108</td>\n",
              "    </tr>\n",
              "    <tr>\n",
              "      <th>min</th>\n",
              "      <td>1040.000000</td>\n",
              "      <td>0.444000</td>\n",
              "      <td>1.000000</td>\n",
              "      <td>0.000000</td>\n",
              "      <td>-6599.978000</td>\n",
              "    </tr>\n",
              "    <tr>\n",
              "      <th>25%</th>\n",
              "      <td>23223.000000</td>\n",
              "      <td>17.280000</td>\n",
              "      <td>2.000000</td>\n",
              "      <td>0.000000</td>\n",
              "      <td>1.728750</td>\n",
              "    </tr>\n",
              "    <tr>\n",
              "      <th>50%</th>\n",
              "      <td>56430.500000</td>\n",
              "      <td>54.490000</td>\n",
              "      <td>3.000000</td>\n",
              "      <td>0.200000</td>\n",
              "      <td>8.666500</td>\n",
              "    </tr>\n",
              "    <tr>\n",
              "      <th>75%</th>\n",
              "      <td>90008.000000</td>\n",
              "      <td>209.940000</td>\n",
              "      <td>5.000000</td>\n",
              "      <td>0.200000</td>\n",
              "      <td>29.364000</td>\n",
              "    </tr>\n",
              "    <tr>\n",
              "      <th>max</th>\n",
              "      <td>99301.000000</td>\n",
              "      <td>22638.480000</td>\n",
              "      <td>14.000000</td>\n",
              "      <td>0.800000</td>\n",
              "      <td>8399.976000</td>\n",
              "    </tr>\n",
              "  </tbody>\n",
              "</table>\n",
              "</div>"
            ],
            "text/plain": [
              "        Postal Code         Sales     Quantity     Discount       Profit\n",
              "count   9994.000000   9994.000000  9994.000000  9994.000000  9994.000000\n",
              "mean   55190.379428    229.858001     3.789574     0.156203    28.656896\n",
              "std    32063.693350    623.245101     2.225110     0.206452   234.260108\n",
              "min     1040.000000      0.444000     1.000000     0.000000 -6599.978000\n",
              "25%    23223.000000     17.280000     2.000000     0.000000     1.728750\n",
              "50%    56430.500000     54.490000     3.000000     0.200000     8.666500\n",
              "75%    90008.000000    209.940000     5.000000     0.200000    29.364000\n",
              "max    99301.000000  22638.480000    14.000000     0.800000  8399.976000"
            ]
          },
          "metadata": {
            "tags": []
          },
          "execution_count": 7
        }
      ]
    },
    {
      "cell_type": "markdown",
      "metadata": {
        "id": "4H2GjQPqcVLj"
      },
      "source": [
        "Checking for the NAN values"
      ]
    },
    {
      "cell_type": "code",
      "metadata": {
        "colab": {
          "base_uri": "https://localhost:8080/"
        },
        "id": "87KI20MjcTTu",
        "outputId": "085fa483-b7b6-46c2-de3e-15883ff118ea"
      },
      "source": [
        "data.isna().sum()"
      ],
      "execution_count": 8,
      "outputs": [
        {
          "output_type": "execute_result",
          "data": {
            "text/plain": [
              "Ship Mode       0\n",
              "Segment         0\n",
              "Country         0\n",
              "City            0\n",
              "State           0\n",
              "Postal Code     0\n",
              "Region          0\n",
              "Category        0\n",
              "Sub-Category    0\n",
              "Sales           0\n",
              "Quantity        0\n",
              "Discount        0\n",
              "Profit          0\n",
              "dtype: int64"
            ]
          },
          "metadata": {
            "tags": []
          },
          "execution_count": 8
        }
      ]
    },
    {
      "cell_type": "markdown",
      "metadata": {
        "id": "kNH7gGfWcY4S"
      },
      "source": [
        "No null values"
      ]
    },
    {
      "cell_type": "markdown",
      "metadata": {
        "id": "6ckB7WsVccdz"
      },
      "source": [
        "Checking the dataset whether it has duplicated values or no"
      ]
    },
    {
      "cell_type": "code",
      "metadata": {
        "colab": {
          "base_uri": "https://localhost:8080/"
        },
        "id": "Mkfw8NW1cXH9",
        "outputId": "04069dff-c537-492c-e91b-c6a0212e1321"
      },
      "source": [
        "data.duplicated().sum()"
      ],
      "execution_count": 9,
      "outputs": [
        {
          "output_type": "execute_result",
          "data": {
            "text/plain": [
              "17"
            ]
          },
          "metadata": {
            "tags": []
          },
          "execution_count": 9
        }
      ]
    },
    {
      "cell_type": "markdown",
      "metadata": {
        "id": "OFB9_xJ5cgXC"
      },
      "source": [
        "There are 17 duplicate values in the dataset"
      ]
    },
    {
      "cell_type": "markdown",
      "metadata": {
        "id": "JSKDnz0Gcifu"
      },
      "source": [
        "Dropping the duplicate values"
      ]
    },
    {
      "cell_type": "code",
      "metadata": {
        "colab": {
          "base_uri": "https://localhost:8080/"
        },
        "id": "H2hf8vyTceSa",
        "outputId": "6b550c52-13c0-4c7e-8f97-bc1bf103fecb"
      },
      "source": [
        "data.drop_duplicates(inplace= True)\n",
        "print(\"Dropped Duplicate Values\")"
      ],
      "execution_count": 10,
      "outputs": [
        {
          "output_type": "stream",
          "text": [
            "Dropped Duplicate Values\n"
          ],
          "name": "stdout"
        }
      ]
    },
    {
      "cell_type": "code",
      "metadata": {
        "colab": {
          "base_uri": "https://localhost:8080/"
        },
        "id": "iP_iX8qsckjJ",
        "outputId": "a3ff0090-cbdd-42b7-9447-595f99e6e348"
      },
      "source": [
        "data.shape"
      ],
      "execution_count": 11,
      "outputs": [
        {
          "output_type": "execute_result",
          "data": {
            "text/plain": [
              "(9977, 13)"
            ]
          },
          "metadata": {
            "tags": []
          },
          "execution_count": 11
        }
      ]
    },
    {
      "cell_type": "markdown",
      "metadata": {
        "id": "H-EjOmnxcqnp"
      },
      "source": [
        "before dropping the duplicated values number of rows were 9994 now it is 9977"
      ]
    },
    {
      "cell_type": "markdown",
      "metadata": {
        "id": "rMPEgQsMcsRY"
      },
      "source": [
        "Deletion of unwanted columns"
      ]
    },
    {
      "cell_type": "code",
      "metadata": {
        "id": "y30tJKfLcnd6"
      },
      "source": [
        "col=['Postal Code']\n",
        "data=data.drop(columns=col,axis=1)"
      ],
      "execution_count": 12,
      "outputs": []
    },
    {
      "cell_type": "markdown",
      "metadata": {
        "id": "kDd1v8-4cwGE"
      },
      "source": [
        "Correlation of dataset"
      ]
    },
    {
      "cell_type": "code",
      "metadata": {
        "id": "SjpWZPQacupy"
      },
      "source": [
        "data.corr()"
      ],
      "execution_count": null,
      "outputs": []
    },
    {
      "cell_type": "markdown",
      "metadata": {
        "id": "ifcM8ZQ2czcw"
      },
      "source": [
        "Covariance of dataset"
      ]
    },
    {
      "cell_type": "code",
      "metadata": {
        "id": "ZrFd1RCdc1OR"
      },
      "source": [
        "data.cov()"
      ],
      "execution_count": null,
      "outputs": []
    },
    {
      "cell_type": "markdown",
      "metadata": {
        "id": "MCStDE4qc3AY"
      },
      "source": [
        "###Data Visualization"
      ]
    },
    {
      "cell_type": "markdown",
      "metadata": {
        "id": "YOW35rMJc6EZ"
      },
      "source": [
        "We Will Analyze Segment of people buying from Superstore"
      ]
    },
    {
      "cell_type": "code",
      "metadata": {
        "id": "dSm-V71Zc8ve"
      },
      "source": [
        "data['Segment'].value_counts()"
      ],
      "execution_count": null,
      "outputs": []
    },
    {
      "cell_type": "code",
      "metadata": {
        "id": "klJ6qedac-lQ"
      },
      "source": [
        "segment=(data['Segment'].value_counts()/len(data['Segment'])*100).plot(kind='bar', color='R')\n",
        "segment\n",
        "\n",
        "plt.figure(figsize=(6,6))\n",
        "plt.title('Analyzing Segment of people buying from Superstore')\n",
        "plt.pie(data['Segment'].value_counts(), labels=data['Segment'].value_counts().index, autopct= '%1.1f%%')\n",
        "plt.show()\n"
      ],
      "execution_count": null,
      "outputs": []
    },
    {
      "cell_type": "markdown",
      "metadata": {
        "id": "r11kpTHXdBVx"
      },
      "source": [
        "From the graph we come to the conclusion that around 51.9% are the consumers buying from the superstore, 30.2% are the corporate people and 17.8% are the home office people buying from the superstore"
      ]
    },
    {
      "cell_type": "markdown",
      "metadata": {
        "id": "zFftRttadDS5"
      },
      "source": [
        "We Will Analyze Ship Mode for Superstore"
      ]
    },
    {
      "cell_type": "code",
      "metadata": {
        "id": "O9ZDxzuudFz8"
      },
      "source": [
        "data['Ship Mode'].value_counts()"
      ],
      "execution_count": null,
      "outputs": []
    },
    {
      "cell_type": "code",
      "metadata": {
        "id": "VBnYnY7gdH8w"
      },
      "source": [
        "ship_mode=(data['Ship Mode'].value_counts()/len(data['Ship Mode'])*100).plot(kind='bar', color='R')\n",
        "ship_mode\n",
        "\n",
        "plt.figure(figsize=(6,6))\n",
        "plt.title('Analyzing Ship Mode for Superstore')\n",
        "plt.pie(data['Ship Mode'].value_counts(), labels=data['Ship Mode'].value_counts().index, autopct= '%1.1f%%')\n",
        "plt.show()\n"
      ],
      "execution_count": null,
      "outputs": []
    },
    {
      "cell_type": "markdown",
      "metadata": {
        "id": "2GdrOpUJdJsA"
      },
      "source": [
        "From the above graph most of the deliveries belong to the standard class which is 59.7%, 19.5% belongs to second class, around 15.4% belong to first class and very less deliveries were made on the same day that is 5.4%"
      ]
    },
    {
      "cell_type": "markdown",
      "metadata": {
        "id": "5phRd4WedLmZ"
      },
      "source": [
        "Analyzing Sub-Category of items in the superstore"
      ]
    },
    {
      "cell_type": "code",
      "metadata": {
        "id": "TAISEvtfdNZR"
      },
      "source": [
        "sub_category=(data['Sub-Category'].value_counts()/len(data['Sub-Category'])*100).plot(kind='bar', color='R')\n",
        "sub_category\n",
        "\n",
        "plt.figure(figsize=(6,6))\n",
        "plt.title('Analyzing Sub-Category of items in Superstore')\n",
        "plt.pie(data['Sub-Category'].value_counts(), labels=data['Sub-Category'].value_counts().index, autopct= '%1.1f%%')\n",
        "plt.show()"
      ],
      "execution_count": null,
      "outputs": []
    },
    {
      "cell_type": "markdown",
      "metadata": {
        "id": "3_5N2xa3dPUj"
      },
      "source": [
        "From the above graph we conclude that :\n",
        "\n",
        "*    9-15.5% Sub-Category falls under Office Supplies.\n",
        "*    2-8% Sub-Category belongs to technology and furniture\n",
        "\n"
      ]
    },
    {
      "cell_type": "markdown",
      "metadata": {
        "id": "VogAM2zNdTZy"
      },
      "source": [
        "Analyzing Category, the item that belongs to"
      ]
    },
    {
      "cell_type": "code",
      "metadata": {
        "id": "kUp3I57BdR0G"
      },
      "source": [
        "category=(data['Category'].value_counts()/len(data['Category'])*100).plot(kind='bar', color='R')\n",
        "category\n",
        "\n",
        "plt.figure(figsize=(6,6))\n",
        "plt.title('Analyzing Category the items belongs in Superstore')\n",
        "plt.pie(data['Category'].value_counts(), labels=data['Category'].value_counts().index, autopct= '%1.1f%%')\n",
        "plt.show()"
      ],
      "execution_count": null,
      "outputs": []
    },
    {
      "cell_type": "markdown",
      "metadata": {
        "id": "qVh7ffeMdYI7"
      },
      "source": [
        "From the above graph we conclude that Office Supplies has the highest sales which is 60.3% compared to furniture(21.2%) and Technology(18.5%)"
      ]
    },
    {
      "cell_type": "markdown",
      "metadata": {
        "id": "_9gUS3wcdZx5"
      },
      "source": [
        "Using countplot to find out the maximum orders of the sub-category item"
      ]
    },
    {
      "cell_type": "code",
      "metadata": {
        "id": "IJrvZ87fdbk-"
      },
      "source": [
        "plt.figure(figsize=(20,10))\n",
        "sns.countplot(x='Sub-Category',hue=\"Region\", data=data)\n",
        "plt.xlabel('Sub-Category', size=16 , color = 'Red')\n",
        "plt.ylabel('No. of Orders', size = 16 ,color = 'Red')\n",
        "plt.xticks(rotation=\"vertical\", size=20)\n",
        "plt.show()"
      ],
      "execution_count": null,
      "outputs": []
    },
    {
      "cell_type": "markdown",
      "metadata": {
        "id": "cP4DbRwkdeLZ"
      },
      "source": [
        "From the above graph we conclude that Binders has maximum reach where binders in west region maximum number of orders with respect to other items"
      ]
    },
    {
      "cell_type": "markdown",
      "metadata": {
        "id": "7UWDgGw8df7V"
      },
      "source": [
        "Using countplot to plot state and number of orders with respect to region\n"
      ]
    },
    {
      "cell_type": "code",
      "metadata": {
        "id": "psDk3zi6dh3i"
      },
      "source": [
        "plt.figure(figsize=(20,10))\n",
        "sns.countplot(x='State',hue=\"Region\", data=data)\n",
        "plt.xlabel('State', size=16 , color = 'Red')\n",
        "plt.ylabel('No. of Orders', size = 16 ,color = 'Red')\n",
        "plt.xticks(rotation=\"vertical\", size=20)\n",
        "plt.show()"
      ],
      "execution_count": null,
      "outputs": []
    },
    {
      "cell_type": "markdown",
      "metadata": {
        "id": "va2n7IPidj0S"
      },
      "source": [
        "From the above observations in the graph we notice that California in west has maximum number of orders and then comes new york east has maximum number of orders"
      ]
    },
    {
      "cell_type": "markdown",
      "metadata": {
        "id": "HsUZm21WdlV8"
      },
      "source": [
        "Using bargraph to plot the state that has highest order without region"
      ]
    },
    {
      "cell_type": "code",
      "metadata": {
        "id": "5781Yrvmdnw8"
      },
      "source": [
        "plt.figure(figsize=(20,10))\n",
        "data['State'].value_counts().plot.bar(color = 'red')\n",
        "plt.xlabel('States', size=16 , color = 'Green')\n",
        "plt.xticks(size = 20)\n",
        "plt.ylabel('No. of Orders', size = 16 ,color = 'Green')\n",
        "plt.show()"
      ],
      "execution_count": null,
      "outputs": []
    },
    {
      "cell_type": "markdown",
      "metadata": {
        "id": "86EaYQoYdqHF"
      },
      "source": [
        "From the above plot we observe that california has maximum number of orders and then comes new york"
      ]
    },
    {
      "cell_type": "markdown",
      "metadata": {
        "id": "qsCBH1Xqdrgy"
      },
      "source": [
        "Finding the maximum profit of a particular Item"
      ]
    },
    {
      "cell_type": "code",
      "metadata": {
        "id": "7GluY0oodtCd"
      },
      "source": [
        "profit=pd.DataFrame(data.groupby('Sub-Category').sum()['Profit'])\n",
        "profit"
      ],
      "execution_count": null,
      "outputs": []
    },
    {
      "cell_type": "code",
      "metadata": {
        "id": "K3PA98OTdveB"
      },
      "source": [
        "profit.plot.bar(figsize=(20,10), grid=True)\n",
        "plt.show()"
      ],
      "execution_count": null,
      "outputs": []
    },
    {
      "cell_type": "markdown",
      "metadata": {
        "id": "T-PAJO4rdxSk"
      },
      "source": [
        "From the above graph we notice that profit of Copiers is more compared to other items"
      ]
    },
    {
      "cell_type": "markdown",
      "metadata": {
        "id": "HlzWEwEOdy4K"
      },
      "source": [
        "Finding the maximum sales of a particular item"
      ]
    },
    {
      "cell_type": "code",
      "metadata": {
        "id": "F9hv4mwRd0X5"
      },
      "source": [
        "sales=pd.DataFrame(data.groupby('Sub-Category').sum()['Sales'])\n",
        "sales"
      ],
      "execution_count": null,
      "outputs": []
    },
    {
      "cell_type": "code",
      "metadata": {
        "id": "XVW_hapTd2FY"
      },
      "source": [
        "sales.plot.bar(figsize=(20,10), grid=True)\n",
        "plt.show()"
      ],
      "execution_count": null,
      "outputs": []
    },
    {
      "cell_type": "markdown",
      "metadata": {
        "id": "4fgbEnXHd374"
      },
      "source": [
        "From the above graph we notice that Phones have highest sales then comes chairs"
      ]
    },
    {
      "cell_type": "markdown",
      "metadata": {
        "id": "DmzffpzEd5dL"
      },
      "source": [
        "Finding the maximum profit of a particular item that belongs to"
      ]
    },
    {
      "cell_type": "code",
      "metadata": {
        "id": "hITvYLqGd9di"
      },
      "source": [
        "category_profit=pd.DataFrame(data.groupby('Category').sum()['Profit'])\n",
        "category_profit"
      ],
      "execution_count": null,
      "outputs": []
    },
    {
      "cell_type": "code",
      "metadata": {
        "id": "A51SAbAgd_Qx"
      },
      "source": [
        "plt.figure(figsize=(20,10))\n",
        "category_profit.groupby('Category').sum()['Profit'].plot.pie(autopct='%1.1f%%')"
      ],
      "execution_count": null,
      "outputs": []
    },
    {
      "cell_type": "markdown",
      "metadata": {
        "id": "n5HaXPDheBIA"
      },
      "source": [
        "From the above graph technology has highest profit which is 50.8%\n"
      ]
    },
    {
      "cell_type": "markdown",
      "metadata": {
        "id": "4YYMKDvaeCeE"
      },
      "source": [
        "Finding the maximum sales of a particular item that belongs to"
      ]
    },
    {
      "cell_type": "code",
      "metadata": {
        "id": "c6ST2JK6eFBg"
      },
      "source": [
        "category_sales=pd.DataFrame(data.groupby('Category').sum()['Sales'])\n",
        "category_sales"
      ],
      "execution_count": null,
      "outputs": []
    },
    {
      "cell_type": "code",
      "metadata": {
        "id": "GFU0weX6eHgg"
      },
      "source": [
        "plt.figure(figsize=(20,10))\n",
        "category_sales.groupby('Category').sum()['Sales'].plot.pie(autopct='%1.1f%%')"
      ],
      "execution_count": null,
      "outputs": []
    },
    {
      "cell_type": "markdown",
      "metadata": {
        "id": "8oMq6Cq-eJn5"
      },
      "source": [
        "From the above graph technology has highest sales which is 36.4%"
      ]
    },
    {
      "cell_type": "markdown",
      "metadata": {
        "id": "PgU01w8NeLEH"
      },
      "source": [
        "Finding out the state that has more profit"
      ]
    },
    {
      "cell_type": "code",
      "metadata": {
        "id": "zBkfVL_jeNYE"
      },
      "source": [
        "states_profit=pd.DataFrame(data.groupby('State').sum()['Profit'])\n",
        "states_profit"
      ],
      "execution_count": null,
      "outputs": []
    },
    {
      "cell_type": "code",
      "metadata": {
        "id": "RC8O2sUbeWSJ"
      },
      "source": [
        "states_profit.plot.bar(figsize=(20,10), grid=True)\n",
        "plt.show()"
      ],
      "execution_count": null,
      "outputs": []
    },
    {
      "cell_type": "markdown",
      "metadata": {
        "id": "qeSkAaQMeYlg"
      },
      "source": [
        "As shown earlier from the above graph California has highest profit then comes New York"
      ]
    },
    {
      "cell_type": "markdown",
      "metadata": {
        "id": "1qlAAvJveaQe"
      },
      "source": [
        "Finding out the state that has more sales"
      ]
    },
    {
      "cell_type": "code",
      "metadata": {
        "id": "8rXTV7FxecBJ"
      },
      "source": [
        "states_sales=pd.DataFrame(data.groupby('State').sum()['Sales'])\n",
        "states_sales"
      ],
      "execution_count": null,
      "outputs": []
    },
    {
      "cell_type": "code",
      "metadata": {
        "id": "DVwHWAiNed4o"
      },
      "source": [
        "states_sales.plot.bar(figsize=(20,10), grid=True)\n",
        "plt.show()"
      ],
      "execution_count": null,
      "outputs": []
    },
    {
      "cell_type": "markdown",
      "metadata": {
        "id": "wF4-U73QefkR"
      },
      "source": [
        "From the above graph California has highest sales then comes New York"
      ]
    },
    {
      "cell_type": "markdown",
      "metadata": {
        "id": "Tq0pqYxWehXo"
      },
      "source": [
        "Finding out Region that has highest sales"
      ]
    },
    {
      "cell_type": "code",
      "metadata": {
        "id": "gho7vJK7ejmN"
      },
      "source": [
        "region_sales=pd.DataFrame(data.groupby('Region').sum()['Sales'])\n",
        "region_sales"
      ],
      "execution_count": null,
      "outputs": []
    },
    {
      "cell_type": "code",
      "metadata": {
        "id": "59CtKl6Gemw7"
      },
      "source": [
        "plt.figure(figsize=(20,10))\n",
        "data.groupby('Region').sum()['Sales'].plot.pie(autopct='%1.1f%%')"
      ],
      "execution_count": null,
      "outputs": []
    },
    {
      "cell_type": "markdown",
      "metadata": {
        "id": "sYRpmHXgeoZ4"
      },
      "source": [
        "From the above pie chart we notice that west region highest sales which 31.6%, east with 29.5% sales, Central has 21.8% and south region has least sales which is 17.1% sales"
      ]
    },
    {
      "cell_type": "markdown",
      "metadata": {
        "id": "auXr5vBGep3g"
      },
      "source": [
        "Finding out Region that has highest profit"
      ]
    },
    {
      "cell_type": "code",
      "metadata": {
        "id": "746b_Snyergd"
      },
      "source": [
        "region_profit=pd.DataFrame(data.groupby('Region').sum()['Profit'])\n",
        "region_profit"
      ],
      "execution_count": null,
      "outputs": []
    },
    {
      "cell_type": "code",
      "metadata": {
        "id": "UokQpSrLetA0"
      },
      "source": [
        "plt.figure(figsize=(20,10))\n",
        "data.groupby('Region').sum()['Profit'].plot.pie(autopct='%1.1f%%')"
      ],
      "execution_count": null,
      "outputs": []
    },
    {
      "cell_type": "markdown",
      "metadata": {
        "id": "BpdIunBAev6B"
      },
      "source": [
        "From the above pie chart we notice that west region highest profit which 37.8%, east with 32.0% profit ,south has 16.3% profit and Central has least profit which is 13.9%"
      ]
    },
    {
      "cell_type": "markdown",
      "metadata": {
        "id": "d1wRYDf3eyM-"
      },
      "source": [
        "Summary\n",
        "\n",
        "   * Subcategory :\n",
        "           1.  highest profit - Tables\n",
        "           2.  least profit - Copiers\n",
        " \n",
        "           1.  highest sales - Phones\n",
        "           2.  least sales - Fasteners \n",
        "\n",
        "   * Category :\n",
        "\n",
        "           1.  highest profit - TECHNOLOGY(50.8%)\n",
        "           2.  least profit - FURNITURE(6.4%)\n",
        " \n",
        "           1.  highest sales - TECHNOLOGY(36.4%)\n",
        "           2.  least sales -  OFFICE SUPPLY(31.3%)\n",
        "\n",
        "   *  State :\n",
        "\n",
        "           1. highest profit - CALIFORNIA\n",
        "           2. least profit - TEXAS\n",
        " \n",
        "           1. highest sales - CALIFORNIA\n",
        "           2. least sales - NORTH DAKOTA\n",
        "\n",
        "   * Region :\n",
        "\n",
        "           1. highest profit - WEST (37.8%)\n",
        "           2. least profit - CENTRAL (13.9%)\n",
        " \n",
        "           1. highest sales - WEST (31.6%)\n",
        "           2. least sales -  SOUTH (17.1%)"
      ]
    }
  ]
}